{
 "cells": [
  {
   "cell_type": "code",
   "execution_count": 1,
   "id": "matched-trader",
   "metadata": {},
   "outputs": [],
   "source": [
    "import random"
   ]
  },
  {
   "cell_type": "markdown",
   "id": "temporal-frame",
   "metadata": {},
   "source": [
    "## BMI 데이터 생성"
   ]
  },
  {
   "cell_type": "code",
   "execution_count": 2,
   "id": "advanced-cross",
   "metadata": {},
   "outputs": [],
   "source": [
    "#bmi 계산 \n",
    "def calc_bmi(h, w):\n",
    "    bmi = w/ (h/100) ** 2\n",
    "    if bmi < 18.5: return \"thin\"\n",
    "    if bmi < 25: return \"normal\"\n",
    "    return \"fat\""
   ]
  },
  {
   "cell_type": "code",
   "execution_count": 13,
   "id": "recent-local",
   "metadata": {},
   "outputs": [
    {
     "name": "stdout",
     "output_type": "stream",
     "text": [
      "ok {'thin': 5108, 'normal': 5281, 'fat': 9611}\n"
     ]
    }
   ],
   "source": [
    "fp =open(\"bmi.csv\",\"w\", encoding = \"utf-8\")\n",
    "fp.write(\"height,weight,label\\n\")\n",
    "\n",
    "#무작위로 데이터 생성하기\n",
    "cnt = {\"thin\":0, \"normal\":0, \"fat\":0}\n",
    "for i in range(20000):\n",
    "    h = random.randint(130,200)\n",
    "    w = random.randint(35, 100)\n",
    "    label = calc_bmi(h , w)\n",
    "    cnt[label] +=1\n",
    "    fp.write(\"{0},{1},{2}\\n\".format(h, w , label))\n",
    "fp.close()\n",
    "print('ok',cnt)"
   ]
  },
  {
   "cell_type": "markdown",
   "id": "racial-mortality",
   "metadata": {},
   "source": [
    "## SVM을 이용하여 BMI 데이터 사용"
   ]
  },
  {
   "cell_type": "code",
   "execution_count": 14,
   "id": "nuclear-sarah",
   "metadata": {},
   "outputs": [],
   "source": [
    "from sklearn.model_selection import train_test_split\n",
    "from sklearn import svm, metrics\n",
    "import matplotlib.pyplot as plt\n",
    "import pandas as pd\n"
   ]
  },
  {
   "cell_type": "code",
   "execution_count": 17,
   "id": "surprised-truck",
   "metadata": {},
   "outputs": [
    {
     "name": "stdout",
     "output_type": "stream",
     "text": [
      "       weight  height\n",
      "0        0.73   1.000\n",
      "1        0.50   0.830\n",
      "2        0.60   0.800\n",
      "3        0.84   0.810\n",
      "4        0.45   0.970\n",
      "...       ...     ...\n",
      "19995    0.46   0.810\n",
      "19996    0.89   0.730\n",
      "19997    0.57   0.905\n",
      "19998    0.99   0.710\n",
      "19999    0.51   0.940\n",
      "\n",
      "[20000 rows x 2 columns]\n"
     ]
    }
   ],
   "source": [
    "tbl = pd.read_csv(\"bmi.csv\")\n",
    "label = tbl[\"label\"]\n",
    "w = tbl[\"weight\"] / 100\n",
    "h = tbl[\"height\"] / 200\n",
    "wh = pd.concat([w,h],axis = 1)\n",
    "print(wh)"
   ]
  },
  {
   "cell_type": "code",
   "execution_count": 18,
   "id": "massive-escape",
   "metadata": {},
   "outputs": [
    {
     "name": "stdout",
     "output_type": "stream",
     "text": [
      "(15000, 2)\n",
      "(5000, 2)\n"
     ]
    }
   ],
   "source": [
    "X_train, X_test, y_train, y_test = train_test_split(wh, label, random_state = 0)\n",
    "print(X_train.shape)\n",
    "print(X_test.shape)"
   ]
  },
  {
   "cell_type": "code",
   "execution_count": 21,
   "id": "thousand-functionality",
   "metadata": {},
   "outputs": [
    {
     "data": {
      "text/plain": [
       "SVC(kernel='linear', random_state=0)"
      ]
     },
     "execution_count": 21,
     "metadata": {},
     "output_type": "execute_result"
    }
   ],
   "source": [
    "clf = svm.SVC(kernel = 'linear', random_state=0)\n",
    "clf.fit(X_train, y_train)"
   ]
  },
  {
   "cell_type": "code",
   "execution_count": 22,
   "id": "adjusted-disney",
   "metadata": {},
   "outputs": [
    {
     "name": "stdout",
     "output_type": "stream",
     "text": [
      "정답률 = 0.9816\n",
      "리포트 =               precision    recall  f1-score   support\n",
      "\n",
      "         fat       0.99      0.99      0.99      2398\n",
      "      normal       0.96      0.97      0.97      1321\n",
      "        thin       1.00      0.98      0.99      1281\n",
      "\n",
      "    accuracy                           0.98      5000\n",
      "   macro avg       0.98      0.98      0.98      5000\n",
      "weighted avg       0.98      0.98      0.98      5000\n",
      "\n"
     ]
    }
   ],
   "source": [
    "predict = clf.predict(X_test)\n",
    "\n",
    "ac_score = metrics.accuracy_score(y_test, predict)\n",
    "cl_report = metrics.classification_report(y_test, predict)\n",
    "print(\"정답률 =\", ac_score)\n",
    "print(\"리포트 =\",cl_report)"
   ]
  },
  {
   "cell_type": "code",
   "execution_count": null,
   "id": "interstate-throw",
   "metadata": {},
   "outputs": [],
   "source": []
  }
 ],
 "metadata": {
  "kernelspec": {
   "display_name": "Python 3",
   "language": "python",
   "name": "python3"
  },
  "language_info": {
   "codemirror_mode": {
    "name": "ipython",
    "version": 3
   },
   "file_extension": ".py",
   "mimetype": "text/x-python",
   "name": "python",
   "nbconvert_exporter": "python",
   "pygments_lexer": "ipython3",
   "version": "3.8.8"
  }
 },
 "nbformat": 4,
 "nbformat_minor": 5
}
