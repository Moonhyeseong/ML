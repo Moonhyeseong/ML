{
 "cells": [
  {
   "cell_type": "code",
   "execution_count": 1,
   "id": "smaller-fantasy",
   "metadata": {},
   "outputs": [],
   "source": [
    "# %reset\n",
    "import numpy as np\n",
    "import matplotlib.pyplot as plt\n",
    "from scipy.optimize import minimize\n",
    "%matplotlib inline\n",
    "# %config InlineBackend.figur_format = 'retina'"
   ]
  },
  {
   "cell_type": "code",
   "execution_count": 2,
   "id": "possible-coupon",
   "metadata": {},
   "outputs": [
    {
     "name": "stdout",
     "output_type": "stream",
     "text": [
      "(50, 2)\n",
      "(50, 2)\n"
     ]
    }
   ],
   "source": [
    "np.random.seed(seed = 1) #난수를 고정\n",
    "W = np.array([3./ 4. , 1.0 , -4./ 5.])\n",
    "N = 50\n",
    "dim = 2\n",
    "K = 2\n",
    "scale = 1;\n",
    "T = np.zeros((N ,K),dtype = np.uint8)\n",
    "X = scale*np.random.rand(N, dim)\n",
    "print(X.shape)\n",
    "print(T.shape)"
   ]
  },
  {
   "cell_type": "code",
   "execution_count": 3,
   "id": "aerial-venezuela",
   "metadata": {},
   "outputs": [
    {
     "name": "stdout",
     "output_type": "stream",
     "text": [
      "[[4.17022005e-01 7.20324493e-01]\n",
      " [1.14374817e-04 3.02332573e-01]\n",
      " [1.46755891e-01 9.23385948e-02]\n",
      " [1.86260211e-01 3.45560727e-01]\n",
      " [3.96767474e-01 5.38816734e-01]]\n",
      "[[0 1]\n",
      " [1 0]\n",
      " [0 0]\n",
      " [0 0]\n",
      " [0 0]]\n"
     ]
    }
   ],
   "source": [
    "for n in range(N):\n",
    "    for K in range(K):\n",
    "        if W[0]*X[n, 0]+ W[1]*X[n, 1] + W[2] > 0:\n",
    "            T[n,1] = 1\n",
    "        else:\n",
    "            T[n,0] = 1\n",
    "print(X[:5 , :])\n",
    "print(T[:5 , :])"
   ]
  },
  {
   "cell_type": "code",
   "execution_count": 4,
   "id": "logical-disclosure",
   "metadata": {},
   "outputs": [
    {
     "data": {
      "text/plain": [
       "<Figure size 216x216 with 0 Axes>"
      ]
     },
     "metadata": {},
     "output_type": "display_data"
    }
   ],
   "source": [
    "def show_data(x,t):\n",
    "    c = [[0, 0, 0], [1, 0, 0]]\n",
    "    for k in range(K):\n",
    "        plt.plot(x[t[:, k] == 1, 0], x[t[:, k] == 1, 1], linestyle = 'none', marker = 'o', color = c[k] )\n",
    "        plt.grid(True)\n",
    "        plt.show()\n",
    "        \n",
    "plt.figure(figsize = (3,3))\n",
    "show_data(X, T)\n"
   ]
  },
  {
   "cell_type": "code",
   "execution_count": 5,
   "id": "decreased-terrain",
   "metadata": {},
   "outputs": [],
   "source": [
    "def logistic2(x0 ,x1 , w):\n",
    "    y= 1 / (1 + np.exp(-(w[0] * x0 * w[1] * x1 + w[2])))\n",
    "    return y"
   ]
  },
  {
   "cell_type": "code",
   "execution_count": 6,
   "id": "coordinated-tours",
   "metadata": {},
   "outputs": [
    {
     "data": {
      "text/plain": [
       "0.40773879392845963"
      ]
     },
     "execution_count": 6,
     "metadata": {},
     "output_type": "execute_result"
    }
   ],
   "source": [
    "def cee_logistic2(w ,x ,t):\n",
    "    X_n = x.shape[0]\n",
    "    y = logistic2(x[: ,0], x[: ,1], w)\n",
    "    cee = 0\n",
    "    for n in range(len(y)):\n",
    "        cee = cee - (t[n, 0] * np.log(y[n]) + (1 - t[n, 0]) * np.log(1 - y[n]))\n",
    "    cee = cee / X_n\n",
    "    return cee\n",
    "\n",
    "# test ---\n",
    "_W = [-1., -1., -1.]\n",
    "cee_logistic2(_W, X, T)"
   ]
  },
  {
   "cell_type": "code",
   "execution_count": 7,
   "id": "endangered-jimmy",
   "metadata": {},
   "outputs": [
    {
     "data": {
      "image/png": "[encoded data removed]",
      "text/plain": [
       "<Figure size 216x216 with 1 Axes>"
      ]
     },
     "metadata": {
      "needs_background": "light"
     },
     "output_type": "display_data"
    }
   ],
   "source": [
    "def show_line(W):\n",
    "    xn = 50\n",
    "    X_range0 = [-1,1]\n",
    "    x0 = np.linspace(X_range0[0], X_range0[1], xn)\n",
    "    x1 = -(W[0]/W[1])*x0 - W[2]/W[1]\n",
    "    plt.plot(x0,x1, '--k')\n",
    "    \n",
    "#test ---\n",
    "plt.figure(figsize = (3,3))\n",
    "_W = [-1., -1., -1.]\n",
    "show_line(_W)"
   ]
  },
  {
   "cell_type": "code",
   "execution_count": 8,
   "id": "chief-religious",
   "metadata": {},
   "outputs": [],
   "source": [
    "def fit_logistic(w_init, x, t):\n",
    "    res = minimize(cee_logistic2, w_init, args = (x ,t), method=\"CG\")\n",
    "    return res.x"
   ]
  },
  {
   "cell_type": "code",
   "execution_count": 9,
   "id": "mineral-extraction",
   "metadata": {},
   "outputs": [
    {
     "data": {
      "image/png": "[encoded data removed]",
      "text/plain": [
       "<Figure size 360x360 with 1 Axes>"
      ]
     },
     "metadata": {
      "needs_background": "light"
     },
     "output_type": "display_data"
    }
   ],
   "source": [
    "#메인---------------------\n",
    "plt.figure(1, figsize = (5, 5))\n",
    "w_init = [1,1,-1]\n",
    "_W = fit_logistic(w_init, X, T)\n",
    "\n",
    "show_data(X ,T)\n",
    "show_line(_W)\n",
    "plt.xlim(-.2, 1.2)\n",
    "plt.ylim(-.2, 1.2)\n",
    "plt.show()"
   ]
  },
  {
   "cell_type": "code",
   "execution_count": null,
   "id": "backed-profession",
   "metadata": {},
   "outputs": [],
   "source": []
  }
 ],
 "metadata": {
  "kernelspec": {
   "display_name": "Python 3",
   "language": "python",
   "name": "python3"
  },
  "language_info": {
   "codemirror_mode": {
    "name": "ipython",
    "version": 3
   },
   "file_extension": ".py",
   "mimetype": "text/x-python",
   "name": "python",
   "nbconvert_exporter": "python",
   "pygments_lexer": "ipython3",
   "version": "3.8.8"
  }
 },
 "nbformat": 4,
 "nbformat_minor": 5
}
