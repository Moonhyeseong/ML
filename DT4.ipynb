{
 "cells": [
  {
   "cell_type": "code",
   "execution_count": 2,
   "id": "complex-superior",
   "metadata": {},
   "outputs": [],
   "source": [
    "import sklearn\n",
    "import numpy as np\n",
    "import matplotlib.pyplot as plt\n",
    "from sklearn.model_selection import train_test_split\n",
    "from sklearn.metrics import accuracy_score\n",
    "%matplotlib inline"
   ]
  },
  {
   "cell_type": "markdown",
   "id": "matched-going",
   "metadata": {},
   "source": [
    "### Voting"
   ]
  },
  {
   "cell_type": "code",
   "execution_count": 5,
   "id": "medium-personal",
   "metadata": {},
   "outputs": [
    {
     "name": "stdout",
     "output_type": "stream",
     "text": [
      "(1257, 64)\n",
      "(360, 64)\n",
      "(180, 64)\n"
     ]
    }
   ],
   "source": [
    "from sklearn import datasets\n",
    "datasets = datasets.load_digits()\n",
    "\n",
    "#(1797, 64) 1797개 ,8x8 데이터\n",
    "x_data = datasets.data\n",
    "y_data = datasets.target\n",
    "# split=(7:2:1) train : val : test\n",
    "x_train_val, x_test,y_train_val, y_test = train_test_split(x_data , y_data, test_size = 180, random_state = 42)\n",
    "x_train, x_val,y_train, y_val = train_test_split(x_train_val , y_train_val, test_size = 360, random_state = 42)\n",
    "print(x_train.shape)\n",
    "print(x_val.shape)\n",
    "print(x_test.shape)"
   ]
  },
  {
   "cell_type": "code",
   "execution_count": null,
   "id": "searching-volume",
   "metadata": {},
   "outputs": [],
   "source": []
  }
 ],
 "metadata": {
  "kernelspec": {
   "display_name": "Python 3",
   "language": "python",
   "name": "python3"
  },
  "language_info": {
   "codemirror_mode": {
    "name": "ipython",
    "version": 3
   },
   "file_extension": ".py",
   "mimetype": "text/x-python",
   "name": "python",
   "nbconvert_exporter": "python",
   "pygments_lexer": "ipython3",
   "version": "3.8.8"
  }
 },
 "nbformat": 4,
 "nbformat_minor": 5
}
