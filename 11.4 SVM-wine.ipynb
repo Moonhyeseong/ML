{
 "cells": [
  {
   "cell_type": "code",
   "execution_count": 6,
   "id": "primary-server",
   "metadata": {},
   "outputs": [],
   "source": [
    "from sklearn.datasets import load_wine\n",
    "from sklearn.model_selection import train_test_split\n",
    "from sklearn.preprocessing import StandardScaler\n",
    "from sklearn import svm"
   ]
  },
  {
   "cell_type": "markdown",
   "id": "considerable-conditioning",
   "metadata": {},
   "source": [
    "## 와인의 종류"
   ]
  },
  {
   "cell_type": "markdown",
   "id": "latin-mediterranean",
   "metadata": {},
   "source": [
    "### 0, 1, 2 세가지로 분류"
   ]
  },
  {
   "cell_type": "code",
   "execution_count": 7,
   "id": "worth-compound",
   "metadata": {},
   "outputs": [
    {
     "name": "stdout",
     "output_type": "stream",
     "text": [
      "(178, 13)\n",
      "(178,)\n",
      "[1.423e+01 1.710e+00 2.430e+00 1.560e+01 1.270e+02 2.800e+00 3.060e+00\n",
      " 2.800e-01 2.290e+00 5.640e+00 1.040e+00 3.920e+00 1.065e+03]\n"
     ]
    }
   ],
   "source": [
    "wine = load_wine()\n",
    "X = wine.data\n",
    "y= wine.target\n",
    "print(X.shape)\n",
    "print(y.shape)\n",
    "print(X[0, :])\n",
    "X_train, X_test, y_train, y_test = train_test_split(X, y, random_state = 0)"
   ]
  },
  {
   "cell_type": "code",
   "execution_count": 16,
   "id": "national-henry",
   "metadata": {},
   "outputs": [],
   "source": [
    "sc = StandardScaler()\n",
    "sc.fit(X_train)\n",
    "X_train_std = sc.transform(X_train)\n",
    "X_test_std = sc.transform(X_test)\n",
    "\n",
    "#X_train_std = X_train\n",
    "#X_test_std = X_test\n",
    "\n",
    "model1 = svm.SVC(kernel='linear').fit(X_train_std,y_train)\n",
    "model2 = svm.SVC(kernel = 'poly',random_state = 0).fit(X_train_std, y_train)\n",
    "model3 = svm.SVC(kernel = 'rbf',random_state = 0).fit(X_train_std, y_train)"
   ]
  },
  {
   "cell_type": "code",
   "execution_count": 17,
   "id": "ordered-frost",
   "metadata": {},
   "outputs": [
    {
     "name": "stdout",
     "output_type": "stream",
     "text": [
      "==model1: Linear ==\n",
      "훈련 세트 점수: 1.00\n",
      "훈련 세트 점수: 1.00\n",
      "==model2: Polynomial ==\n",
      "훈련 세트 점수: 0.98\n",
      "훈련 세트 점수: 0.96\n",
      "==model3: RBF ==\n",
      "훈련 세트 점수: 0.99\n",
      "훈련 세트 점수: 1.00\n"
     ]
    }
   ],
   "source": [
    "print(\"==model1: Linear ==\")\n",
    "print(\"훈련 세트 점수: {:.2f}\".format(model1.score(X_train_std, y_train)))\n",
    "print(\"훈련 세트 점수: {:.2f}\".format(model1.score(X_test_std, y_test)))\n",
    "\n",
    "print(\"==model2: Polynomial ==\")\n",
    "print(\"훈련 세트 점수: {:.2f}\".format(model2.score(X_train_std, y_train)))\n",
    "print(\"훈련 세트 점수: {:.2f}\".format(model2.score(X_test_std, y_test)))\n",
    "\n",
    "print(\"==model3: RBF ==\")\n",
    "print(\"훈련 세트 점수: {:.2f}\".format(model3.score(X_train_std, y_train)))\n",
    "print(\"훈련 세트 점수: {:.2f}\".format(model3.score(X_test_std, y_test)))"
   ]
  },
  {
   "cell_type": "code",
   "execution_count": null,
   "id": "advanced-abortion",
   "metadata": {},
   "outputs": [],
   "source": []
  }
 ],
 "metadata": {
  "kernelspec": {
   "display_name": "Python 3",
   "language": "python",
   "name": "python3"
  },
  "language_info": {
   "codemirror_mode": {
    "name": "ipython",
    "version": 3
   },
   "file_extension": ".py",
   "mimetype": "text/x-python",
   "name": "python",
   "nbconvert_exporter": "python",
   "pygments_lexer": "ipython3",
   "version": "3.8.8"
  }
 },
 "nbformat": 4,
 "nbformat_minor": 5
}
